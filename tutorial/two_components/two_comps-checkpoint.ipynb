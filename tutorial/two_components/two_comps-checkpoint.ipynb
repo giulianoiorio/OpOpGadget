{
 "cells": [
  {
   "cell_type": "code",
   "execution_count": 1,
   "metadata": {},
   "outputs": [],
   "source": [
    "from OpOp.Model import Hernquist, NFW, NbodyModel"
   ]
  },
  {
   "cell_type": "code",
   "execution_count": 9,
   "metadata": {},
   "outputs": [
    {
     "name": "stdout",
     "output_type": "stream",
     "text": [
      "\n",
      "Model: Henquist\n",
      "gamma: 1.00\n",
      "beta: 4.00\n",
      "rscale: 2.000\n",
      "rt: 20.000 (physical)  10.000 (normalised)\n",
      "rini: 0.000 (physical)  0.000 (normalised)\n",
      "rfin: 600.000 (physical)  300.000 (normalised)\n",
      "Mass: 1.000e+07 at scale radius rs: 600.000\n",
      "Total Mass: 1.000e+07 at last radius: 600.000\n",
      "use_c set to False\n",
      "use_nparray set to False\n",
      "\n"
     ]
    }
   ],
   "source": [
    "#Stars\n",
    "mstar=1e8\n",
    "rc_star=2\n",
    "rtrunc_star=20\n",
    "ms=Hernquist(rc=rc_star,Ms=mstar,rt=rtrunc_star)\n",
    "print(ms)"
   ]
  },
  {
   "cell_type": "code",
   "execution_count": 12,
   "metadata": {},
   "outputs": [
    {
     "name": "stdout",
     "output_type": "stream",
     "text": [
      "\n",
      "Model: NFW\n",
      "concentration parameter: 200\n",
      "Cosm parameters,  z:0.000   h:0.670  rhoc:124.586\n",
      "c: 15.657\n",
      "M200: 1.000e+10\n",
      "r200: 45.758\n",
      "rs: 2.923\n",
      "rt: 40.000 (physical)  0.874 (normalised)\n",
      "rini: 0.000 (physical)  0.000 (normalised)\n",
      "rfin: 876.782 (physical)  300.000 (normalised)\n",
      "Total Mass: 1.041e+10 at last radius: 876.782\n",
      "use_c set to False\n",
      "use_nparray set to False\n",
      "\n"
     ]
    }
   ],
   "source": [
    "#DM\n",
    "Mvir=1e10\n",
    "rtrunc_dm=40\n",
    "mdm=NFW(Mc=Mvir,rt=rtrunc_dm)\n",
    "print(mdm)"
   ]
  },
  {
   "cell_type": "code",
   "execution_count": 15,
   "metadata": {},
   "outputs": [
    {
     "name": "stdout",
     "output_type": "stream",
     "text": [
      "<OpOp.src.model_src.NbodyModel.NbodyModel object at 0x11880c5f8>\n",
      "***Generate ICS: Start***\n",
      "-Component id:0 type:1 Npart=10000\n",
      "     Generate Positions:      Done\n",
      "     Generate Velocities:      Done\n",
      "     Done in 0.084\n",
      "-Component id:1 type:2 Npart=500000\n",
      "     Generate Positions:      Done\n",
      "     Generate Velocities:      Done\n",
      "     Done in 1.190\n"
     ]
    }
   ],
   "source": [
    "#Nbody Model star\n",
    "model_star={'type':1, 'model':ms,'npart':int(1e4)}\n",
    "#Nbody Model DM\n",
    "model_dm={'type':2, 'model':mdm,'npart':int(5e5)}\n",
    "#Final model\n",
    "a=NbodyModel([model_star,model_dm])\n",
    "#Generate\n",
    "p=a.generate(use_c=True, po=None,vo=None,mq=70,set_vel=True)"
   ]
  },
  {
   "cell_type": "code",
   "execution_count": null,
   "metadata": {},
   "outputs": [],
   "source": [
    ""
   ]
  }
 ],
 "metadata": {
  "kernelspec": {
   "display_name": "Python 3",
   "language": "python",
   "name": "python3"
  },
  "language_info": {
   "codemirror_mode": {
    "name": "ipython",
    "version": 3.0
   },
   "file_extension": ".py",
   "mimetype": "text/x-python",
   "name": "python",
   "nbconvert_exporter": "python",
   "pygments_lexer": "ipython3",
   "version": "3.6.4"
  }
 },
 "nbformat": 4,
 "nbformat_minor": 0
}
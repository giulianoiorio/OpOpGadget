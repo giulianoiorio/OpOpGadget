{
 "cells": [
  {
   "cell_type": "markdown",
   "metadata": {},
   "source": [
    "HTML('''<script>\n",
    "code_show=true; \n",
    "function code_toggle() {\n",
    " if (code_show){\n",
    " $('div.input').hide();\n",
    " } else {\n",
    " $('div.input').show();\n",
    " }\n",
    " code_show = !code_show\n",
    "} \n",
    "$( document ).ready(code_toggle);\n",
    "</script>\n",
    "The raw code for this IPython notebook is by default hidden for easier reading.\n",
    "To toggle on/off the raw code, click <a href=\"javascript:code_toggle()\">here</a>.''')"
   ]
  },
  {
   "cell_type": "markdown",
   "metadata": {},
   "source": [
    "Test the new method to normalise for GeneralModel.\n",
    "In practice all the model are normalised using the value of the Mass scale ($M_s$) at certain radius $r_s$.\n",
    "By default if $r_s$ is not provided $M_s$ is considered the mass at the last considered radius.\n",
    "In this way we can define a model using the value of the mass at certain radius as the $M_{200}$ and $r_{200}$."
   ]
  },
  {
   "cell_type": "code",
   "execution_count": 12,
   "metadata": {
    "collapsed": true
   },
   "outputs": [],
   "source": [
    "%matplotlib inline  \n",
    "import numpy as np\n",
    "import matplotlib.pyplot as plt\n",
    "import matplotlib as mpl\n",
    "label_size =20\n",
    "mpl.rcParams.update({'figure.autolayout':True})\n",
    "mpl.rcParams['xtick.labelsize'] = label_size \n",
    "mpl.rcParams['ytick.labelsize'] = label_size \n",
    "mpl.rcParams['mathtext.default']='regular'\n",
    "from astropy.constants import G as conG\n",
    "from OpOp.Model import Plummer2D, Plummer, Sersic, Isothermal, Tbetamodel, TruncatedPlummer, NbodyModel\n",
    "from OpOp.analysis import Analysis, Profile\n",
    "from OpOp.io import write_snap"
   ]
  },
  {
   "cell_type": "code",
   "execution_count": 85,
   "metadata": {
    "collapsed": true
   },
   "outputs": [],
   "source": [
    "#NFW-core\n",
    "rc_halo=0.3258 \n",
    "gamma_halo=0\n",
    "beta_halo=3\n",
    "mm_halo=10**8.7161#Mass at rm_halo\n",
    "rmax=50 #rmax halo\n",
    "rmin=0.001\n",
    "rini=rmin/rc_halo\n",
    "rfin=rmax/rc_halo"
   ]
  },
  {
   "cell_type": "code",
   "execution_count": 86,
   "metadata": {},
   "outputs": [
    {
     "name": "stdout",
     "output_type": "stream",
     "text": [
      "Warning keyword Mmax is deprecated for TbetaModel, use instead Ms\n",
      "\n",
      "Model: TbetaModel\n",
      "gamma: 0.00\n",
      "beta: 3.00\n",
      "rc: 0.326\n",
      "rt: 100.000 (physical)  306.937 (normalised)\n",
      "rini: 0.001 (physical)  0.003 (normalised)\n",
      "rfin: 50.000 (physical)  153.468 (normalised)\n",
      "Mass: 5.201e+08 at scale radius rs: 2.000\n",
      "Total Mass: 2.432e+09 at last radius: 50.000\n",
      "use_c set to False\n",
      "use_nparray set to False\n",
      "\n",
      "Warning keyword Mmax is deprecated for TbetaModel, use instead Ms\n",
      "\n",
      "Model: TbetaModel\n",
      "gamma: 0.00\n",
      "beta: 3.00\n",
      "rc: 0.326\n",
      "rt: 10.000 (physical)  30.694 (normalised)\n",
      "rini: 0.001 (physical)  0.003 (normalised)\n",
      "rfin: 50.000 (physical)  153.468 (normalised)\n",
      "Mass: 5.201e+08 at scale radius rs: 2.000\n",
      "Total Mass: 1.281e+09 at last radius: 50.000\n",
      "use_c set to False\n",
      "use_nparray set to False\n",
      "\n"
     ]
    }
   ],
   "source": [
    "mh=Tbetamodel(rc=rc_halo,rt=None,Mmax=mm_halo,rs=2,gamma=gamma_halo,beta=beta_halo,rini=rmin,rfin=rmax,r_physic=True)\n",
    "print(mh)\n",
    "mh2=Tbetamodel(rc=rc_halo,rt=10,Mmax=mm_halo,rs=2,gamma=gamma_halo,beta=beta_halo,rini=rmin,rfin=rmax,r_physic=True)\n",
    "print(mh2)"
   ]
  },
  {
   "cell_type": "code",
   "execution_count": 90,
   "metadata": {
    "collapsed": true
   },
   "outputs": [],
   "source": [
    "R=np.logspace(np.log10(0.001),np.log10(30),1000)"
   ]
  },
  {
   "cell_type": "code",
   "execution_count": 104,
   "metadata": {
    "collapsed": true
   },
   "outputs": [],
   "source": [
    "dens=mh.dens(R)\n",
    "dens2=mh2.dens(R)"
   ]
  },
  {
   "cell_type": "code",
   "execution_count": 105,
   "metadata": {},
   "outputs": [
    {
     "data": {
      "image/png": "[encoded data removed]",
      "text/plain": [
       "<matplotlib.figure.Figure at 0x10e2a8550>"
      ]
     },
     "metadata": {},
     "output_type": "display_data"
    }
   ],
   "source": [
    "plt.plot(R,dens)\n",
    "plt.plot(R,dens2)\n",
    "plt.ylim(1e-2,1e10)\n",
    "plt.xscale('log')\n",
    "plt.yscale('log')\n",
    "plt.show()"
   ]
  },
  {
   "cell_type": "markdown",
   "metadata": {},
   "source": []
  },
  {
   "cell_type": "markdown",
   "metadata": {},
   "source": [
    "test model generation"
   ]
  },
  {
   "cell_type": "code",
   "execution_count": 106,
   "metadata": {},
   "outputs": [],
   "source": [
    "dm={'type':1, 'model':mh2,'npart':int(1e5)}\n",
    "a=NbodyModel([dm,],xmin=rmin,xmax=rmax,r_physic=True)"
   ]
  },
  {
   "cell_type": "code",
   "execution_count": 107,
   "metadata": {},
   "outputs": [
    {
     "name": "stdout",
     "output_type": "stream",
     "text": [
      "***Generate ICS: Start***\n",
      "-Component id:0 type:1 Npart=100000\n",
      "     Generate Positions:      Done\n",
      "     Generate Velocities:      Done\n",
      "     Done in 0.256\n"
     ]
    }
   ],
   "source": [
    "p=a.generate(use_c=True, po=None,vo=None,mq=70,set_vel=True)"
   ]
  },
  {
   "cell_type": "code",
   "execution_count": 113,
   "metadata": {},
   "outputs": [],
   "source": [
    "aa=Analysis(p,safe=False,auto_centre=True)\n",
    "prof=Profile(p,xmin=0.001,xmax=50,ngrid=512,kind='lin',type=1)"
   ]
  },
  {
   "cell_type": "code",
   "execution_count": 114,
   "metadata": {},
   "outputs": [
    {
     "data": {
      "text/plain": [
       "[<matplotlib.lines.Line2D at 0x108dcde90>]"
      ]
     },
     "execution_count": 114,
     "metadata": {},
     "output_type": "execute_result"
    },
    {
     "data": {
      "image/png": "[encoded data removed]",
      "text/plain": [
       "<matplotlib.figure.Figure at 0x10a305e90>"
      ]
     },
     "metadata": {},
     "output_type": "display_data"
    }
   ],
   "source": [
    "arr=prof.vdisp2d(pax='x',ret=True,func=True,s=None)[0]\n",
    "r=arr[:,0]\n",
    "vd=arr[:,1]\n",
    "plt.plot(r,vd,label='Vdx 2D',c='red')"
   ]
  },
  {
   "cell_type": "code",
   "execution_count": 115,
   "metadata": {},
   "outputs": [
    {
     "data": {
      "image/png": "[encoded data removed]",
      "text/plain": [
       "<matplotlib.figure.Figure at 0x1086e4290>"
      ]
     },
     "metadata": {},
     "output_type": "display_data"
    }
   ],
   "source": [
    "arr=prof.dens()[0]\n",
    "r=arr[:,0]\n",
    "d=arr[:,1]\n",
    "plt.plot(r,d,label='dens',c='red')\n",
    "plt.plot(R,dens2)\n",
    "plt.ylim(1e-2,1e10)\n",
    "plt.xscale('log')\n",
    "plt.yscale('log')\n",
    "plt.show()"
   ]
  },
  {
   "cell_type": "code",
   "execution_count": null,
   "metadata": {
    "collapsed": true
   },
   "outputs": [],
   "source": []
  }
 ],
 "metadata": {
  "kernelspec": {
   "display_name": "Python 3",
   "language": "python",
   "name": "python3"
  },
  "language_info": {
   "codemirror_mode": {
    "name": "ipython",
    "version": 3
   },
   "file_extension": ".py",
   "mimetype": "text/x-python",
   "name": "python",
   "nbconvert_exporter": "python",
   "pygments_lexer": "ipython3",
   "version": "3.3.5"
  }
 },
 "nbformat": 4,
 "nbformat_minor": 2
}

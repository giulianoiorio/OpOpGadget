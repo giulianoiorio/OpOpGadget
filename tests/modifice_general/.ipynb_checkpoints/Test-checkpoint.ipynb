{
 "cells": [
  {
   "cell_type": "markdown",
   "metadata": {},
   "source": [
    "HTML('''<script>\n",
    "code_show=true; \n",
    "function code_toggle() {\n",
    " if (code_show){\n",
    " $('div.input').hide();\n",
    " } else {\n",
    " $('div.input').show();\n",
    " }\n",
    " code_show = !code_show\n",
    "} \n",
    "$( document ).ready(code_toggle);\n",
    "</script>\n",
    "The raw code for this IPython notebook is by default hidden for easier reading.\n",
    "To toggle on/off the raw code, click <a href=\"javascript:code_toggle()\">here</a>.''')"
   ]
  },
  {
   "cell_type": "markdown",
   "metadata": {},
   "source": [
    "Test the new method to normalise for GeneralModel.\n",
    "In practice all the model are normalised using the value of the Mass scale ($M_s$) at certain radius $r_s$.\n",
    "By default if $r_s$ is not provided $M_s$ is considered the mass at the last considered radius.\n",
    "In this way we can define a model using the value of the mass at certain radius as the $M_{200}$ and $r_{200}$."
   ]
  },
  {
   "cell_type": "code",
   "execution_count": 28,
   "metadata": {
    "collapsed": true
   },
   "outputs": [],
   "source": [
    "%matplotlib inline  \n",
    "import numpy as np\n",
    "import matplotlib.pyplot as plt\n",
    "import matplotlib as mpl\n",
    "label_size =20\n",
    "mpl.rcParams.update({'figure.autolayout':True})\n",
    "mpl.rcParams['xtick.labelsize'] = label_size \n",
    "mpl.rcParams['ytick.labelsize'] = label_size \n",
    "mpl.rcParams['mathtext.default']='regular'\n",
    "from astropy.constants import G as conG\n",
    "from OpOp.Model import Plummer2D, Plummer, Sersic, Isothermal, Tbetamodel, TruncatedPlummer"
   ]
  },
  {
   "cell_type": "code",
   "execution_count": 16,
   "metadata": {
    "collapsed": true
   },
   "outputs": [],
   "source": [
    "#NFW-core\n",
    "rc_halo=0.3258 \n",
    "gamma_halo=0\n",
    "beta_halo=3\n",
    "mm_halo=10**8.7161#Mass at rm_halo\n",
    "rmax=60 #rmax halo\n",
    "rmin=0.0001\n",
    "rini=rmin/rc_halo\n",
    "rfin=rmax/rc_halo"
   ]
  },
  {
   "cell_type": "code",
   "execution_count": 24,
   "metadata": {},
   "outputs": [
    {
     "name": "stdout",
     "output_type": "stream",
     "text": [
      "Warning keyword Mmax is deprecated for TbetaModel, use instead Ms\n",
      "\n",
      "Model: TbetaModel\n",
      "gamma: 0.00\n",
      "beta: 3.00\n",
      "rc: 0.326\n",
      "rt: 120.000 (physical)  368.324 (normalised)\n",
      "rini: 0.000 (physical)  0.000 (normalised)\n",
      "rfin: 60.000 (physical)  184.162 (normalised)\n",
      "Mass: 5.201e+08 at scale radius rs: 10.000\n",
      "Total Mass: 9.336e+08 at last radius: 60.000\n",
      "use_c set to False\n",
      "use_nparray set to False\n",
      "Warning keyword Mmax is deprecated for TbetaModel, use instead Ms\n",
      "\n",
      "Model: TbetaModel\n",
      "gamma: 0.00\n",
      "beta: 3.00\n",
      "rc: 0.326\n",
      "rt: 30.000 (physical)  92.081 (normalised)\n",
      "rini: 0.000 (physical)  0.000 (normalised)\n",
      "rfin: 60.000 (physical)  184.162 (normalised)\n",
      "Mass: 5.201e+08 at scale radius rs: 10.000\n",
      "Total Mass: 7.346e+08 at last radius: 60.000\n",
      "use_c set to False\n",
      "use_nparray set to False\n"
     ]
    }
   ],
   "source": [
    "mh=Tbetamodel(rc=rc_halo,rt=None,Mmax=mm_halo,rs=10,gamma=gamma_halo,beta=beta_halo,rini=rmin,rfin=rmax,r_physics=True)\n",
    "print(mh)\n",
    "mh2=Tbetamodel(rc=rc_halo,rt=30,Mmax=mm_halo,rs=10,gamma=gamma_halo,beta=beta_halo,rini=rmin,rfin=rmax,r_physics=True)\n",
    "print(mh2)"
   ]
  },
  {
   "cell_type": "code",
   "execution_count": 25,
   "metadata": {
    "collapsed": true
   },
   "outputs": [],
   "source": [
    "R=np.logspace(np.log10(0.001),np.log10(50),1000)"
   ]
  },
  {
   "cell_type": "code",
   "execution_count": 26,
   "metadata": {
    "collapsed": true
   },
   "outputs": [],
   "source": [
    "dens=mh.dens(R)\n",
    "dens2=mh2.dens(R)"
   ]
  },
  {
   "cell_type": "code",
   "execution_count": 27,
   "metadata": {},
   "outputs": [
    {
     "data": {
      "image/png": "[encoded data removed]",
      "text/plain": [
       "<matplotlib.figure.Figure at 0x1115af310>"
      ]
     },
     "metadata": {},
     "output_type": "display_data"
    }
   ],
   "source": [
    "plt.plot(R,dens)\n",
    "plt.plot(R,dens2)\n",
    "plt.ylim(1e-2,1e10)\n",
    "plt.xscale('log')\n",
    "plt.yscale('log')\n",
    "plt.show()"
   ]
  },
  {
   "cell_type": "markdown",
   "metadata": {},
   "source": []
  },
  {
   "cell_type": "markdown",
   "metadata": {},
   "source": [
    "test model generation"
   ]
  },
  {
   "cell_type": "code",
   "execution_count": null,
   "metadata": {
    "collapsed": true
   },
   "outputs": [],
   "source": [
    "dm={'type':1, 'model':mh,'npart':int(1e6)}\n",
    "a=NbodyModel([dm,],xmax=rmax/rc_halo)"
   ]
  }
 ],
 "metadata": {
  "kernelspec": {
   "display_name": "Python 3",
   "language": "python",
   "name": "python3"
  },
  "language_info": {
   "codemirror_mode": {
    "name": "ipython",
    "version": 3
   },
   "file_extension": ".py",
   "mimetype": "text/x-python",
   "name": "python",
   "nbconvert_exporter": "python",
   "pygments_lexer": "ipython3",
   "version": "3.3.5"
  }
 },
 "nbformat": 4,
 "nbformat_minor": 2
}
